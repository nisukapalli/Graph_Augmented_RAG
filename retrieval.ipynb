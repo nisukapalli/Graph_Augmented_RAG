{
 "cells": [
  {
   "cell_type": "code",
   "execution_count": 2,
   "id": "ab8cb77a",
   "metadata": {},
   "outputs": [
    {
     "data": {
      "text/plain": [
       "'/Users/nikhilisukapalli/Downloads/Capstone/mag_papers_0'"
      ]
     },
     "execution_count": 2,
     "metadata": {},
     "output_type": "execute_result"
    }
   ],
   "source": [
    "import os\n",
    "import numpy as np\n",
    "import pandas as pd\n",
    "import random\n",
    "\n",
    "os.chdir('/Users/nikhilisukapalli/Downloads/Capstone/mag_papers_0')\n",
    "os.getcwd()"
   ]
  },
  {
   "cell_type": "code",
   "execution_count": null,
   "id": "780d50df",
   "metadata": {},
   "outputs": [
    {
     "name": "stdout",
     "output_type": "stream",
     "text": [
      "1.82.1\n"
     ]
    }
   ],
   "source": [
    "import openai\n",
    "print(openai.__version__)\n",
    "\n",
    "openai.api_key = \"API_KEY\""
   ]
  },
  {
   "cell_type": "code",
   "execution_count": 4,
   "id": "9c71d074",
   "metadata": {},
   "outputs": [
    {
     "name": "stdout",
     "output_type": "stream",
     "text": [
      "30000 470000 500000\n"
     ]
    }
   ],
   "source": [
    "data = np.load('embeddings_1M.npz', allow_pickle=True)\n",
    "\n",
    "embeddings1 = data['embeddings']\n",
    "embeddings2 = data['embeddings2']\n",
    "embeddings3 = data['embeddings3']\n",
    "\n",
    "print(len(embeddings1), len(embeddings2), len(embeddings3))"
   ]
  },
  {
   "cell_type": "code",
   "execution_count": 5,
   "id": "8fd05d86",
   "metadata": {},
   "outputs": [
    {
     "name": "stdout",
     "output_type": "stream",
     "text": [
      "500000\n"
     ]
    }
   ],
   "source": [
    "data = np.load('embeddings_1.5M.npz', allow_pickle=True)\n",
    "\n",
    "embeddings4 = data['embeddings4']\n",
    "print(len(embeddings4))"
   ]
  },
  {
   "cell_type": "code",
   "execution_count": 6,
   "id": "d99401cc",
   "metadata": {},
   "outputs": [
    {
     "name": "stdout",
     "output_type": "stream",
     "text": [
      "500000\n"
     ]
    }
   ],
   "source": [
    "data = np.load('embeddings_2M.npz', allow_pickle=True)\n",
    "\n",
    "embeddings5 = data['embeddings5']\n",
    "print(len(embeddings5))"
   ]
  },
  {
   "cell_type": "code",
   "execution_count": 7,
   "id": "c3309963",
   "metadata": {},
   "outputs": [
    {
     "name": "stdout",
     "output_type": "stream",
     "text": [
      "393685\n"
     ]
    }
   ],
   "source": [
    "data = np.load('embeddings_2.4M.npz', allow_pickle=True)\n",
    "\n",
    "embeddings6 = data['embeddings6']\n",
    "print(len(embeddings6))"
   ]
  },
  {
   "cell_type": "code",
   "execution_count": 8,
   "id": "7013ed52",
   "metadata": {},
   "outputs": [
    {
     "name": "stdout",
     "output_type": "stream",
     "text": [
      "Number of papers (nodes): 2393685\n",
      "Number of citations (edges): 225071\n"
     ]
    }
   ],
   "source": [
    "import networkx as nx\n",
    "\n",
    "G = nx.read_gpickle(\"mag_graph_cleaned.gpickle\")\n",
    "print(f\"Number of papers (nodes): {G.number_of_nodes()}\")\n",
    "print(f\"Number of citations (edges): {G.number_of_edges()}\")"
   ]
  },
  {
   "cell_type": "code",
   "execution_count": 9,
   "id": "2978f4e9",
   "metadata": {},
   "outputs": [
    {
     "name": "stdout",
     "output_type": "stream",
     "text": [
      "Number of pages: 2393685\n"
     ]
    }
   ],
   "source": [
    "import pickle\n",
    "\n",
    "page_ranks = nx.pagerank(G, alpha=0.85)\n",
    "print(f\"Number of pages: {len(page_ranks)}\")\n",
    "\n",
    "with open(\"pageranks.pkl\", \"wb\") as f:\n",
    "    pickle.dump(page_ranks, f)"
   ]
  },
  {
   "cell_type": "code",
   "execution_count": 10,
   "id": "1b296aee",
   "metadata": {},
   "outputs": [
    {
     "name": "stdout",
     "output_type": "stream",
     "text": [
      "Parsed 2393685 papers\n"
     ]
    }
   ],
   "source": [
    "paper_ids = []\n",
    "paper_texts = []\n",
    "\n",
    "for node_id, data in G.nodes(data=True):\n",
    "    if data.get('title') and data.get('abstract'):\n",
    "        text = (data.get('title', '') + ' ' + data.get('abstract', '')).strip()\n",
    "        if text:\n",
    "            paper_ids.append(node_id)\n",
    "            paper_texts.append(text)\n",
    "\n",
    "print(f\"Parsed {len(paper_texts)} papers\")"
   ]
  },
  {
   "cell_type": "code",
   "execution_count": 11,
   "id": "9ceade15",
   "metadata": {},
   "outputs": [
    {
     "name": "stdout",
     "output_type": "stream",
     "text": [
      "100000002\n",
      "{'title': 'Electron Spin Resonance Investigations of Oxygen-Centered Free Radicals in Biological Systems', 'year': 1988, 'authors': ['Ronald P. Mason', 'Kim M. Morehouse'], 'fos': ['Hydroxyl radical', 'Autoxidation', 'Oxygen', 'Hyperfine structure', 'Photochemistry', 'Nuclear magnetic resonance', 'Radical', 'Electron paramagnetic resonance', 'Superoxide', 'Xanthine oxidase', 'Chemistry'], 'abstract': 'Oxygen-centered free radicals have been detected directly with ESR in a variety of biological processes such as lipid autoxidation,1 the enzymatic formation of superoxide by xanthine oxidase,2 and hydroxyl radical formation by the Y-irradiation of ice.3 Since the common isotope of oxygen is spin-less, no nuclear hyperfine interaction is possible, and the g-value and any hydrogen hyperfine coupling provide the only criteria for distinguishing an oxygen-centered free radical from other free radicals. The greatest limitation on the direct detection of oxygen-centered free radicals, aside from their high reactivity, is their paramagnetic properties.'}\n"
     ]
    }
   ],
   "source": [
    "for node_id, data in G.nodes(data=True):\n",
    "    print(node_id)\n",
    "    print(data)\n",
    "    break"
   ]
  },
  {
   "cell_type": "code",
   "execution_count": 12,
   "id": "33700f03",
   "metadata": {},
   "outputs": [
    {
     "name": "stdout",
     "output_type": "stream",
     "text": [
      "2393685\n"
     ]
    }
   ],
   "source": [
    "all_embeddings = {}\n",
    "all_embeddings.update(dict(zip(paper_ids[:30000], embeddings1)))\n",
    "all_embeddings.update(dict(zip(paper_ids[30000:500000], embeddings2)))\n",
    "all_embeddings.update(dict(zip(paper_ids[500000:1000000], embeddings3)))\n",
    "all_embeddings.update(dict(zip(paper_ids[1000000:1500000], embeddings4)))\n",
    "all_embeddings.update(dict(zip(paper_ids[1500000:2000000], embeddings5)))\n",
    "all_embeddings.update(dict(zip(paper_ids[2000000:], embeddings6)))\n",
    "print(len(all_embeddings))"
   ]
  },
  {
   "cell_type": "code",
   "execution_count": 13,
   "id": "853c19e7",
   "metadata": {},
   "outputs": [
    {
     "name": "stdout",
     "output_type": "stream",
     "text": [
      "2393685\n"
     ]
    }
   ],
   "source": [
    "final_data = {\n",
    "    paper_id: {\n",
    "        \"embedding\": all_embeddings.get(paper_id),\n",
    "        \"pagerank\": page_ranks.get(paper_id)\n",
    "    }\n",
    "    for paper_id in all_embeddings\n",
    "}\n",
    "print(len(final_data))"
   ]
  },
  {
   "cell_type": "code",
   "execution_count": 14,
   "id": "6ad15c4b",
   "metadata": {},
   "outputs": [],
   "source": [
    "# with open(\"final_data.pkl\", \"wb\") as f:\n",
    "#     pickle.dump(final_data, f)"
   ]
  },
  {
   "cell_type": "code",
   "execution_count": 15,
   "id": "7860cfab",
   "metadata": {},
   "outputs": [
    {
     "name": "stderr",
     "output_type": "stream",
     "text": [
      "/Users/nikhilisukapalli/opt/anaconda3/envs/graphqa2/lib/python3.9/site-packages/tqdm/auto.py:21: TqdmWarning: IProgress not found. Please update jupyter and ipywidgets. See https://ipywidgets.readthedocs.io/en/stable/user_install.html\n",
      "  from .autonotebook import tqdm as notebook_tqdm\n"
     ]
    }
   ],
   "source": [
    "import torch\n",
    "import transformers\n",
    "import sentence_transformers\n",
    "\n",
    "from sentence_transformers import SentenceTransformer\n",
    "\n",
    "model = SentenceTransformer(\"all-MiniLM-L6-v2\")"
   ]
  },
  {
   "cell_type": "code",
   "execution_count": 16,
   "id": "209593e6",
   "metadata": {},
   "outputs": [
    {
     "name": "stderr",
     "output_type": "stream",
     "text": [
      "[nltk_data] Downloading package stopwords to\n",
      "[nltk_data]     /Users/nikhilisukapalli/nltk_data...\n",
      "[nltk_data]   Package stopwords is already up-to-date!\n"
     ]
    }
   ],
   "source": [
    "from sklearn.metrics.pairwise import cosine_similarity\n",
    "import re\n",
    "import nltk\n",
    "nltk.download('stopwords')\n",
    "from nltk.corpus import stopwords"
   ]
  },
  {
   "cell_type": "code",
   "execution_count": 17,
   "id": "d685d0ba",
   "metadata": {},
   "outputs": [],
   "source": [
    "from collections import defaultdict\n",
    "\n",
    "pattern = re.compile(r'\\w+')\n",
    "inverted_index = defaultdict(set)\n",
    "for paper_id, data in G.nodes(data=True):\n",
    "    for fos in data.get('fos', []):\n",
    "        tokens = pattern.findall(fos.lower())\n",
    "        for token in tokens:\n",
    "            inverted_index[token].add(paper_id)"
   ]
  },
  {
   "cell_type": "code",
   "execution_count": 18,
   "id": "ce239dfa",
   "metadata": {},
   "outputs": [],
   "source": [
    "stop_words = set(stopwords.words('english'))\n",
    "\n",
    "def get_topk_papers(query, k=5, graph=G, all_embeddings=all_embeddings, page_ranks=page_ranks):\n",
    "    query_tokens = set(pattern.findall(query.lower())) - stop_words\n",
    "    \n",
    "    paper_ids = set()\n",
    "    for token in query_tokens:\n",
    "        paper_ids.update(inverted_index.get(token, set()))\n",
    "    print(f\"Found {len(paper_ids)} relevant papers for query: {query}\")\n",
    "    if not paper_ids:\n",
    "        return []\n",
    "    \n",
    "    query_emb = model.encode(query)\n",
    "    query_emb = np.array(query_emb).reshape(1, -1)\n",
    "    relevant_embs = np.array([all_embeddings[id] for id in paper_ids])\n",
    "    sim_scores = cosine_similarity(query_emb, relevant_embs)[0]\n",
    "\n",
    "    # print(\"Query shape: \", query_emb.shape)\n",
    "    # print(\"Relevant_embs shape: \", relevant_embs.shape)\n",
    "    # print(\"Sim_scores shape: \", sim_scores.shape)\n",
    "\n",
    "    weighted_scores = []\n",
    "    for id, sim_score in zip(paper_ids, sim_scores):\n",
    "        pagerank_score = page_ranks.get(id, 0)\n",
    "        weighted_score = sim_score * (pagerank_score + 1)\n",
    "        weighted_scores.append((id, weighted_score))\n",
    "\n",
    "    topk_papers = sorted(weighted_scores, key=lambda x: x[1], reverse=True)[:k]\n",
    "    return topk_papers"
   ]
  },
  {
   "cell_type": "code",
   "execution_count": 19,
   "id": "49e3dd79",
   "metadata": {},
   "outputs": [],
   "source": [
    "def process_queries(queries_df):\n",
    "    for i, row in queries_df.iterrows():\n",
    "        query = row['Query']\n",
    "        topk_papers = get_topk_papers(query, k=5)\n",
    "\n",
    "        context_chunks = []\n",
    "        for paper_id, _ in topk_papers:\n",
    "            paper_node = G.nodes[paper_id]\n",
    "            title = paper_node.get('title', '')\n",
    "            year = paper_node.get('year', '')\n",
    "            authors = paper_node.get('authors', [])\n",
    "            abstract = paper_node.get('abstract', '')\n",
    "            context_chunks.append(f\"Title: {title}\\nYear: {year}\\nAuthors: {', '.join(authors)}\\nAbstract: {abstract}\")\n",
    "\n",
    "        context = \"\\n\\n\".join(context_chunks)\n",
    "        prompt = f\"Answer the following question. Below the question is context from several papers that you may use to guide your answer if relevant (cite the title and authors if relevant): {query}\\n\\n{context}\"\n",
    "\n",
    "        try:\n",
    "            response = openai.chat.completions.create(\n",
    "                model=\"gpt-4o\",\n",
    "                messages=[\n",
    "                    {\"role\": \"system\", \"content\": \"You are an expert research assistant.\"},\n",
    "                    {\"role\": \"user\", \"content\": prompt}\n",
    "                ]\n",
    "            )\n",
    "            answer = response.choices[0].message.content\n",
    "        except Exception as e:\n",
    "            print(f\"Error processing query {i}: {e}\")\n",
    "            answer = f\"Error: {e}\"\n",
    "        \n",
    "        queries_df.at[i, 'Output'] = answer\n",
    "\n",
    "        print(f\"Processed query {i + 1}/{len(queries_df)}: {row['Query']}\")\n",
    "        print()\n",
    "    \n",
    "    return queries_df"
   ]
  },
  {
   "cell_type": "code",
   "execution_count": 57,
   "id": "7e5d8d88",
   "metadata": {},
   "outputs": [
    {
     "data": {
      "text/html": [
       "<div>\n",
       "<style scoped>\n",
       "    .dataframe tbody tr th:only-of-type {\n",
       "        vertical-align: middle;\n",
       "    }\n",
       "\n",
       "    .dataframe tbody tr th {\n",
       "        vertical-align: top;\n",
       "    }\n",
       "\n",
       "    .dataframe thead th {\n",
       "        text-align: right;\n",
       "    }\n",
       "</style>\n",
       "<table border=\"1\" class=\"dataframe\">\n",
       "  <thead>\n",
       "    <tr style=\"text-align: right;\">\n",
       "      <th></th>\n",
       "      <th>Query</th>\n",
       "      <th>Label</th>\n",
       "      <th>Output</th>\n",
       "    </tr>\n",
       "  </thead>\n",
       "  <tbody>\n",
       "    <tr>\n",
       "      <th>0</th>\n",
       "      <td>What are the key scalability trade-offs betwee...</td>\n",
       "      <td>DHTs, such as Chord or Kademlia, distribute th...</td>\n",
       "      <td></td>\n",
       "    </tr>\n",
       "    <tr>\n",
       "      <th>1</th>\n",
       "      <td>How can adversarial attacks exploit the latent...</td>\n",
       "      <td>Adversarial attacks manipulate the latent spac...</td>\n",
       "      <td></td>\n",
       "    </tr>\n",
       "    <tr>\n",
       "      <th>2</th>\n",
       "      <td>Design an efficient algorithm to detect cycles...</td>\n",
       "      <td>A naive approach would recompute cycles after ...</td>\n",
       "      <td></td>\n",
       "    </tr>\n",
       "    <tr>\n",
       "      <th>3</th>\n",
       "      <td>Explain how homomorphic encryption enables pri...</td>\n",
       "      <td>Homomorphic encryption (HE) allows computation...</td>\n",
       "      <td></td>\n",
       "    </tr>\n",
       "    <tr>\n",
       "      <th>4</th>\n",
       "      <td>In the context of cloud computing, compare and...</td>\n",
       "      <td>Strong consistency guarantees that all reads r...</td>\n",
       "      <td></td>\n",
       "    </tr>\n",
       "  </tbody>\n",
       "</table>\n",
       "</div>"
      ],
      "text/plain": [
       "                                               Query  \\\n",
       "0  What are the key scalability trade-offs betwee...   \n",
       "1  How can adversarial attacks exploit the latent...   \n",
       "2  Design an efficient algorithm to detect cycles...   \n",
       "3  Explain how homomorphic encryption enables pri...   \n",
       "4  In the context of cloud computing, compare and...   \n",
       "\n",
       "                                               Label Output  \n",
       "0  DHTs, such as Chord or Kademlia, distribute th...         \n",
       "1  Adversarial attacks manipulate the latent spac...         \n",
       "2  A naive approach would recompute cycles after ...         \n",
       "3  Homomorphic encryption (HE) allows computation...         \n",
       "4  Strong consistency guarantees that all reads r...         "
      ]
     },
     "execution_count": 57,
     "metadata": {},
     "output_type": "execute_result"
    }
   ],
   "source": [
    "test_queries1 = pd.read_csv('test_queries1.csv', usecols=['Query', 'Label', 'Output'])\n",
    "test_queries1['Output'] = test_queries1['Output'].fillna('')\n",
    "test_queries1.head()"
   ]
  },
  {
   "cell_type": "code",
   "execution_count": 58,
   "id": "209a9f8a",
   "metadata": {},
   "outputs": [
    {
     "name": "stdout",
     "output_type": "stream",
     "text": [
      "Found 40947 relevant papers for query: What are the key scalability trade-offs between distributed hash tables (DHTs) and centralized indexing systems in peer-to-peer networks?\n",
      "Processed query 1/10: What are the key scalability trade-offs between distributed hash tables (DHTs) and centralized indexing systems in peer-to-peer networks?\n",
      "\n",
      "Found 16746 relevant papers for query: How can adversarial attacks exploit the latent space of generative models like GANs or VAEs, and what defense strategies have been proposed?\n",
      "Processed query 2/10: How can adversarial attacks exploit the latent space of generative models like GANs or VAEs, and what defense strategies have been proposed?\n",
      "\n",
      "Found 50455 relevant papers for query: Design an efficient algorithm to detect cycles in a dynamic graph where edges are frequently added and removed. How would you ensure minimal recomputation?\n",
      "Processed query 3/10: Design an efficient algorithm to detect cycles in a dynamic graph where edges are frequently added and removed. How would you ensure minimal recomputation?\n",
      "\n",
      "Found 91897 relevant papers for query: Explain how homomorphic encryption enables privacy-preserving machine learning, and describe current limitations in applying it to real-time systems.\n",
      "Processed query 4/10: Explain how homomorphic encryption enables privacy-preserving machine learning, and describe current limitations in applying it to real-time systems.\n",
      "\n",
      "Found 169734 relevant papers for query: In the context of cloud computing, compare and contrast eventual consistency, causal consistency, and strong consistency, focusing on their practical impacts on system design.\n",
      "Processed query 5/10: In the context of cloud computing, compare and contrast eventual consistency, causal consistency, and strong consistency, focusing on their practical impacts on system design.\n",
      "\n",
      "Found 85377 relevant papers for query: What formal methods can be applied to verify the correctness of concurrent data structures, and what challenges arise in scaling these methods to industrial systems?\n",
      "Processed query 6/10: What formal methods can be applied to verify the correctness of concurrent data structures, and what challenges arise in scaling these methods to industrial systems?\n",
      "\n",
      "Found 51621 relevant papers for query: Propose an approach for optimizing transformer-based language models for edge devices with limited computational resources, balancing accuracy and latency.\n",
      "Processed query 7/10: Propose an approach for optimizing transformer-based language models for edge devices with limited computational resources, balancing accuracy and latency.\n",
      "\n",
      "Found 37950 relevant papers for query: How do quantum error correction codes, such as surface codes, address the challenges posed by decoherence and gate errors in quantum computers?\n",
      "Processed query 8/10: How do quantum error correction codes, such as surface codes, address the challenges posed by decoherence and gate errors in quantum computers?\n",
      "\n",
      "Found 229557 relevant papers for query: Given a stream of user click data on a large-scale web application, design a system to identify emerging trends in near real-time. What algorithms and infrastructure would you use?\n",
      "Processed query 9/10: Given a stream of user click data on a large-scale web application, design a system to identify emerging trends in near real-time. What algorithms and infrastructure would you use?\n",
      "\n",
      "Found 57040 relevant papers for query: Describe the principles behind differential privacy and discuss how adding noise can impact the utility of machine learning models trained on private datasets.\n",
      "Processed query 10/10: Describe the principles behind differential privacy and discuss how adding noise can impact the utility of machine learning models trained on private datasets.\n",
      "\n"
     ]
    }
   ],
   "source": [
    "test_queries1 = process_queries(test_queries1)\n",
    "test_queries1.to_csv('test_queries1.csv', index=False)"
   ]
  },
  {
   "cell_type": "code",
   "execution_count": 59,
   "id": "6997866f",
   "metadata": {},
   "outputs": [
    {
     "data": {
      "text/html": [
       "<div>\n",
       "<style scoped>\n",
       "    .dataframe tbody tr th:only-of-type {\n",
       "        vertical-align: middle;\n",
       "    }\n",
       "\n",
       "    .dataframe tbody tr th {\n",
       "        vertical-align: top;\n",
       "    }\n",
       "\n",
       "    .dataframe thead th {\n",
       "        text-align: right;\n",
       "    }\n",
       "</style>\n",
       "<table border=\"1\" class=\"dataframe\">\n",
       "  <thead>\n",
       "    <tr style=\"text-align: right;\">\n",
       "      <th></th>\n",
       "      <th>Query</th>\n",
       "      <th>Label</th>\n",
       "      <th>Output</th>\n",
       "    </tr>\n",
       "  </thead>\n",
       "  <tbody>\n",
       "    <tr>\n",
       "      <th>0</th>\n",
       "      <td>How can machine learning accelerate the discov...</td>\n",
       "      <td>Machine learning (ML) models can rapidly scree...</td>\n",
       "      <td></td>\n",
       "    </tr>\n",
       "    <tr>\n",
       "      <th>1</th>\n",
       "      <td>Why does chirality emerge spontaneously in cer...</td>\n",
       "      <td>Spontaneous chiral symmetry breaking during cr...</td>\n",
       "      <td></td>\n",
       "    </tr>\n",
       "    <tr>\n",
       "      <th>2</th>\n",
       "      <td>Compare the roles of frontier molecular orbita...</td>\n",
       "      <td>In nucleophilic aromatic substitution (NAS), t...</td>\n",
       "      <td></td>\n",
       "    </tr>\n",
       "    <tr>\n",
       "      <th>3</th>\n",
       "      <td>What experimental techniques are most effectiv...</td>\n",
       "      <td>Techniques like femtosecond transient absorpti...</td>\n",
       "      <td></td>\n",
       "    </tr>\n",
       "    <tr>\n",
       "      <th>4</th>\n",
       "      <td>How do solid-state defects contribute to the i...</td>\n",
       "      <td>Defects such as vacancies, interstitials, and ...</td>\n",
       "      <td></td>\n",
       "    </tr>\n",
       "  </tbody>\n",
       "</table>\n",
       "</div>"
      ],
      "text/plain": [
       "                                               Query  \\\n",
       "0  How can machine learning accelerate the discov...   \n",
       "1  Why does chirality emerge spontaneously in cer...   \n",
       "2  Compare the roles of frontier molecular orbita...   \n",
       "3  What experimental techniques are most effectiv...   \n",
       "4  How do solid-state defects contribute to the i...   \n",
       "\n",
       "                                               Label Output  \n",
       "0  Machine learning (ML) models can rapidly scree...         \n",
       "1  Spontaneous chiral symmetry breaking during cr...         \n",
       "2  In nucleophilic aromatic substitution (NAS), t...         \n",
       "3  Techniques like femtosecond transient absorpti...         \n",
       "4  Defects such as vacancies, interstitials, and ...         "
      ]
     },
     "execution_count": 59,
     "metadata": {},
     "output_type": "execute_result"
    }
   ],
   "source": [
    "test_queries2 = pd.read_csv('test_queries2.csv', usecols=['Query', 'Label', 'Output'])\n",
    "test_queries2['Output'] = test_queries2['Output'].fillna('')\n",
    "test_queries2.head()"
   ]
  },
  {
   "cell_type": "code",
   "execution_count": 60,
   "id": "5e9a7a6f",
   "metadata": {},
   "outputs": [
    {
     "name": "stdout",
     "output_type": "stream",
     "text": [
      "Found 151228 relevant papers for query: How can machine learning accelerate the discovery of new catalytic materials for CO₂ reduction?\n",
      "Processed query 1/10: How can machine learning accelerate the discovery of new catalytic materials for CO₂ reduction?\n",
      "\n",
      "Found 77793 relevant papers for query: Why does chirality emerge spontaneously in certain crystallization processes, and what factors control it?\n",
      "Processed query 2/10: Why does chirality emerge spontaneously in certain crystallization processes, and what factors control it?\n",
      "\n",
      "Found 34182 relevant papers for query: Compare the roles of frontier molecular orbitals in explaining both nucleophilic and electrophilic aromatic substitution reactions.\n",
      "Processed query 3/10: Compare the roles of frontier molecular orbitals in explaining both nucleophilic and electrophilic aromatic substitution reactions.\n",
      "\n",
      "Found 41997 relevant papers for query: What experimental techniques are most effective in characterizing ultrafast electron transfer processes at the femtosecond scale?\n",
      "Processed query 4/10: What experimental techniques are most effective in characterizing ultrafast electron transfer processes at the femtosecond scale?\n",
      "\n",
      "Found 146115 relevant papers for query: How do solid-state defects contribute to the ionic conductivity in lithium-ion battery materials?\n",
      "Processed query 5/10: How do solid-state defects contribute to the ionic conductivity in lithium-ion battery materials?\n",
      "\n",
      "Found 22045 relevant papers for query: Predict how substituent effects alter the acidity of aromatic carboxylic acids using Hammett plots and resonance arguments.\n",
      "Processed query 6/10: Predict how substituent effects alter the acidity of aromatic carboxylic acids using Hammett plots and resonance arguments.\n",
      "\n",
      "Found 245622 relevant papers for query: In what ways has click chemistry transformed polymer synthesis and material functionalization?\n",
      "Processed query 7/10: In what ways has click chemistry transformed polymer synthesis and material functionalization?\n",
      "\n",
      "Found 75438 relevant papers for query: How do environmental conditions like pH and temperature modulate the denaturation pathways of large protein complexes?\n",
      "Processed query 8/10: How do environmental conditions like pH and temperature modulate the denaturation pathways of large protein complexes?\n",
      "\n",
      "Found 20013 relevant papers for query: What challenges arise when scaling up photoredox catalytic reactions from lab scale to industrial production?\n",
      "Processed query 9/10: What challenges arise when scaling up photoredox catalytic reactions from lab scale to industrial production?\n",
      "\n",
      "Found 25062 relevant papers for query: Explain how noncovalent interactions, such as halogen bonding, have expanded the design strategies for supramolecular assemblies.\n",
      "Processed query 10/10: Explain how noncovalent interactions, such as halogen bonding, have expanded the design strategies for supramolecular assemblies.\n",
      "\n"
     ]
    }
   ],
   "source": [
    "test_queries2 = process_queries(test_queries2)\n",
    "test_queries2.to_csv('test_queries2.csv', index=False)"
   ]
  },
  {
   "cell_type": "code",
   "execution_count": 20,
   "id": "151d071b",
   "metadata": {},
   "outputs": [
    {
     "data": {
      "text/html": [
       "<div>\n",
       "<style scoped>\n",
       "    .dataframe tbody tr th:only-of-type {\n",
       "        vertical-align: middle;\n",
       "    }\n",
       "\n",
       "    .dataframe tbody tr th {\n",
       "        vertical-align: top;\n",
       "    }\n",
       "\n",
       "    .dataframe thead th {\n",
       "        text-align: right;\n",
       "    }\n",
       "</style>\n",
       "<table border=\"1\" class=\"dataframe\">\n",
       "  <thead>\n",
       "    <tr style=\"text-align: right;\">\n",
       "      <th></th>\n",
       "      <th>Query</th>\n",
       "      <th>Label</th>\n",
       "      <th>Output</th>\n",
       "    </tr>\n",
       "  </thead>\n",
       "  <tbody>\n",
       "    <tr>\n",
       "      <th>0</th>\n",
       "      <td>How is Building Information Modeling (BIM) int...</td>\n",
       "      <td>Building Information Modeling (BIM) integrates...</td>\n",
       "      <td></td>\n",
       "    </tr>\n",
       "    <tr>\n",
       "      <th>1</th>\n",
       "      <td>Describe how real-time operating systems (RTOS...</td>\n",
       "      <td>Real-time operating systems provide determinis...</td>\n",
       "      <td></td>\n",
       "    </tr>\n",
       "    <tr>\n",
       "      <th>2</th>\n",
       "      <td>Explain the role of nozzle design in optimizin...</td>\n",
       "      <td>Nozzles in supersonic engines (typically conve...</td>\n",
       "      <td></td>\n",
       "    </tr>\n",
       "    <tr>\n",
       "      <th>3</th>\n",
       "      <td>How does modal analysis contribute to understa...</td>\n",
       "      <td>Modal analysis identifies the natural frequenc...</td>\n",
       "      <td></td>\n",
       "    </tr>\n",
       "    <tr>\n",
       "      <th>4</th>\n",
       "      <td>Compare the effectiveness and limitations of r...</td>\n",
       "      <td>Both types recover waste heat, but their mecha...</td>\n",
       "      <td></td>\n",
       "    </tr>\n",
       "  </tbody>\n",
       "</table>\n",
       "</div>"
      ],
      "text/plain": [
       "                                               Query  \\\n",
       "0  How is Building Information Modeling (BIM) int...   \n",
       "1  Describe how real-time operating systems (RTOS...   \n",
       "2  Explain the role of nozzle design in optimizin...   \n",
       "3  How does modal analysis contribute to understa...   \n",
       "4  Compare the effectiveness and limitations of r...   \n",
       "\n",
       "                                               Label Output  \n",
       "0  Building Information Modeling (BIM) integrates...         \n",
       "1  Real-time operating systems provide determinis...         \n",
       "2  Nozzles in supersonic engines (typically conve...         \n",
       "3  Modal analysis identifies the natural frequenc...         \n",
       "4  Both types recover waste heat, but their mecha...         "
      ]
     },
     "execution_count": 20,
     "metadata": {},
     "output_type": "execute_result"
    }
   ],
   "source": [
    "test_queries3 = pd.read_csv('test_queries3.csv', usecols=['Query', 'Label', 'Output'])\n",
    "test_queries3['Output'] = test_queries3['Output'].fillna('')\n",
    "test_queries3.head()"
   ]
  },
  {
   "cell_type": "code",
   "execution_count": 21,
   "id": "ea5a6e19",
   "metadata": {},
   "outputs": [
    {
     "name": "stdout",
     "output_type": "stream",
     "text": [
      "Found 198752 relevant papers for query: How is Building Information Modeling (BIM) integrated with HVAC system simulation to optimize energy usage and airflow dynamics in large-scale commercial buildings?\n",
      "Processed query 1/10: How is Building Information Modeling (BIM) integrated with HVAC system simulation to optimize energy usage and airflow dynamics in large-scale commercial buildings?\n",
      "\n",
      "Found 104397 relevant papers for query: Describe how real-time operating systems (RTOS) manage task scheduling and interrupt handling in safety-critical embedded applications, such as in automotive systems.\n",
      "Processed query 2/10: Describe how real-time operating systems (RTOS) manage task scheduling and interrupt handling in safety-critical embedded applications, such as in automotive systems.\n",
      "\n",
      "Found 58030 relevant papers for query: Explain the role of nozzle design in optimizing thrust and efficiency in supersonic jet engines. How do engineers deal with flow separation and shock waves?\n",
      "Processed query 3/10: Explain the role of nozzle design in optimizing thrust and efficiency in supersonic jet engines. How do engineers deal with flow separation and shock waves?\n",
      "\n",
      "Found 77341 relevant papers for query: How does modal analysis contribute to understanding the vibrational behavior of long-span bridges, and how is it used to mitigate resonance effects?\n",
      "Processed query 4/10: How does modal analysis contribute to understanding the vibrational behavior of long-span bridges, and how is it used to mitigate resonance effects?\n",
      "\n",
      "Found 53634 relevant papers for query: Compare the effectiveness and limitations of regenerative and recuperative heat exchangers in recovering waste heat from industrial gas turbines.\n",
      "Processed query 5/10: Compare the effectiveness and limitations of regenerative and recuperative heat exchangers in recovering waste heat from industrial gas turbines.\n",
      "\n",
      "Found 158374 relevant papers for query: In a smart grid system, how does real-time load balancing using demand response techniques help improve grid stability and prevent blackouts?\n",
      "Processed query 6/10: In a smart grid system, how does real-time load balancing using demand response techniques help improve grid stability and prevent blackouts?\n",
      "\n",
      "Found 148348 relevant papers for query: Discuss how modern control theory is applied to fly-by-wire systems in commercial aircraft. What are the benefits and potential risks associated with fully replacing mechanical linkages?\n",
      "Processed query 7/10: Discuss how modern control theory is applied to fly-by-wire systems in commercial aircraft. What are the benefits and potential risks associated with fully replacing mechanical linkages?\n",
      "\n",
      "Found 51298 relevant papers for query: What are the key design and safety considerations in constructing deep foundations in areas with high seismic activity, such as near fault lines?\n",
      "Processed query 8/10: What are the key design and safety considerations in constructing deep foundations in areas with high seismic activity, such as near fault lines?\n",
      "\n",
      "Found 145397 relevant papers for query: Explain how fatigue failure is predicted in rotating components, and how S-N curves are utilized to estimate the service life of materials under variable loading conditions.\n",
      "Processed query 9/10: Explain how fatigue failure is predicted in rotating components, and how S-N curves are utilized to estimate the service life of materials under variable loading conditions.\n",
      "\n",
      "Found 68594 relevant papers for query: How do phase-locked loops (PLLs) maintain synchronization in high-speed communication systems, and what are the challenges in designing low-jitter clock recovery circuits?\n",
      "Processed query 10/10: How do phase-locked loops (PLLs) maintain synchronization in high-speed communication systems, and what are the challenges in designing low-jitter clock recovery circuits?\n",
      "\n"
     ]
    }
   ],
   "source": [
    "test_queries3 = process_queries(test_queries3)\n",
    "test_queries3.to_csv('test_queries3.csv', index=False)"
   ]
  },
  {
   "cell_type": "code",
   "execution_count": 21,
   "id": "e2fe1776",
   "metadata": {},
   "outputs": [
    {
     "data": {
      "text/html": [
       "<div>\n",
       "<style scoped>\n",
       "    .dataframe tbody tr th:only-of-type {\n",
       "        vertical-align: middle;\n",
       "    }\n",
       "\n",
       "    .dataframe tbody tr th {\n",
       "        vertical-align: top;\n",
       "    }\n",
       "\n",
       "    .dataframe thead th {\n",
       "        text-align: right;\n",
       "    }\n",
       "</style>\n",
       "<table border=\"1\" class=\"dataframe\">\n",
       "  <thead>\n",
       "    <tr style=\"text-align: right;\">\n",
       "      <th></th>\n",
       "      <th>Query</th>\n",
       "      <th>Label</th>\n",
       "      <th>Output</th>\n",
       "    </tr>\n",
       "  </thead>\n",
       "  <tbody>\n",
       "    <tr>\n",
       "      <th>0</th>\n",
       "      <td>How does dynamic programming improve upon the ...</td>\n",
       "      <td>Dynamic programming (DP) improves performance ...</td>\n",
       "      <td></td>\n",
       "    </tr>\n",
       "    <tr>\n",
       "      <th>1</th>\n",
       "      <td>Explain how a hash table works, including how ...</td>\n",
       "      <td>A hash table maps keys to indices in an array ...</td>\n",
       "      <td></td>\n",
       "    </tr>\n",
       "    <tr>\n",
       "      <th>2</th>\n",
       "      <td>Describe the concept of deadlock in operating ...</td>\n",
       "      <td>Deadlock occurs when multiple processes are st...</td>\n",
       "      <td></td>\n",
       "    </tr>\n",
       "    <tr>\n",
       "      <th>3</th>\n",
       "      <td>What is the difference between breadth-first s...</td>\n",
       "      <td>Breadth-first search (BFS) and depth-first sea...</td>\n",
       "      <td></td>\n",
       "    </tr>\n",
       "    <tr>\n",
       "      <th>4</th>\n",
       "      <td>How does the TCP three-way handshake work, and...</td>\n",
       "      <td>The TCP three-way handshake is crucial for est...</td>\n",
       "      <td></td>\n",
       "    </tr>\n",
       "  </tbody>\n",
       "</table>\n",
       "</div>"
      ],
      "text/plain": [
       "                                               Query  \\\n",
       "0  How does dynamic programming improve upon the ...   \n",
       "1  Explain how a hash table works, including how ...   \n",
       "2  Describe the concept of deadlock in operating ...   \n",
       "3  What is the difference between breadth-first s...   \n",
       "4  How does the TCP three-way handshake work, and...   \n",
       "\n",
       "                                               Label Output  \n",
       "0  Dynamic programming (DP) improves performance ...         \n",
       "1  A hash table maps keys to indices in an array ...         \n",
       "2  Deadlock occurs when multiple processes are st...         \n",
       "3  Breadth-first search (BFS) and depth-first sea...         \n",
       "4  The TCP three-way handshake is crucial for est...         "
      ]
     },
     "execution_count": 21,
     "metadata": {},
     "output_type": "execute_result"
    }
   ],
   "source": [
    "test_queries4 = pd.read_csv('test_queries4.csv', usecols=['Query', 'Label', 'Output'])\n",
    "test_queries4['Output'] = test_queries4['Output'].fillna('')\n",
    "test_queries4.head()"
   ]
  },
  {
   "cell_type": "code",
   "execution_count": 22,
   "id": "8cdaae8a",
   "metadata": {},
   "outputs": [
    {
     "name": "stdout",
     "output_type": "stream",
     "text": [
      "Found 71613 relevant papers for query: How does dynamic programming improve upon the time complexity of a naive recursive solution? Provide an example problem and explain how overlapping subproblems are handled.\n",
      "Processed query 1/10: How does dynamic programming improve upon the time complexity of a naive recursive solution? Provide an example problem and explain how overlapping subproblems are handled.\n",
      "\n",
      "Found 11948 relevant papers for query: Explain how a hash table works, including how collisions are handled. What are the trade-offs between separate chaining and open addressing?\n",
      "Processed query 2/10: Explain how a hash table works, including how collisions are handled. What are the trade-offs between separate chaining and open addressing?\n",
      "\n",
      "Found 73458 relevant papers for query: Describe the concept of deadlock in operating systems. Provide a real-world analogy and explain two methods to prevent or avoid deadlocks.\n",
      "Processed query 3/10: Describe the concept of deadlock in operating systems. Provide a real-world analogy and explain two methods to prevent or avoid deadlocks.\n",
      "\n",
      "Found 19364 relevant papers for query: What is the difference between breadth-first search (BFS) and depth-first search (DFS) in graph traversal, and in what scenarios is one preferred over the other?\n",
      "Processed query 4/10: What is the difference between breadth-first search (BFS) and depth-first search (DFS) in graph traversal, and in what scenarios is one preferred over the other?\n",
      "\n",
      "Found 41672 relevant papers for query: How does the TCP three-way handshake work, and why is it important for reliable communication over the Internet?\n",
      "Processed query 5/10: How does the TCP three-way handshake work, and why is it important for reliable communication over the Internet?\n",
      "\n",
      "Found 23975 relevant papers for query: Explain the difference between a relational and a NoSQL (non-relational) database. In what types of applications might you choose one over the other?\n",
      "Processed query 6/10: Explain the difference between a relational and a NoSQL (non-relational) database. In what types of applications might you choose one over the other?\n",
      "\n",
      "Found 17227 relevant papers for query: What is a race condition in multithreaded programming, and how can it be prevented or mitigated?\n",
      "Processed query 7/10: What is a race condition in multithreaded programming, and how can it be prevented or mitigated?\n",
      "\n",
      "Found 51179 relevant papers for query: In what ways do functional, object-oriented, and procedural programming paradigms differ in how they structure and organize code? Provide a scenario where each paradigm offers unique advantages.\n",
      "Processed query 8/10: In what ways do functional, object-oriented, and procedural programming paradigms differ in how they structure and organize code? Provide a scenario where each paradigm offers unique advantages.\n",
      "\n",
      "Found 178494 relevant papers for query: How do garbage collection algorithms (like mark-and-sweep or generational GC) work in managed languages, and what performance trade-offs do they introduce?\n",
      "Processed query 9/10: How do garbage collection algorithms (like mark-and-sweep or generational GC) work in managed languages, and what performance trade-offs do they introduce?\n",
      "\n",
      "Found 73291 relevant papers for query: What are the main differences between stack memory and heap memory in terms of allocation, access speed, and lifetime of stored data? Provide examples where you would use each.\n",
      "Processed query 10/10: What are the main differences between stack memory and heap memory in terms of allocation, access speed, and lifetime of stored data? Provide examples where you would use each.\n",
      "\n"
     ]
    }
   ],
   "source": [
    "test_queries4 = process_queries(test_queries4)\n",
    "test_queries4.to_csv('test_queries4.csv', index=False)"
   ]
  },
  {
   "cell_type": "code",
   "execution_count": 49,
   "id": "fb1f63d7",
   "metadata": {},
   "outputs": [
    {
     "data": {
      "text/html": [
       "<div>\n",
       "<style scoped>\n",
       "    .dataframe tbody tr th:only-of-type {\n",
       "        vertical-align: middle;\n",
       "    }\n",
       "\n",
       "    .dataframe tbody tr th {\n",
       "        vertical-align: top;\n",
       "    }\n",
       "\n",
       "    .dataframe thead th {\n",
       "        text-align: right;\n",
       "    }\n",
       "</style>\n",
       "<table border=\"1\" class=\"dataframe\">\n",
       "  <thead>\n",
       "    <tr style=\"text-align: right;\">\n",
       "      <th></th>\n",
       "      <th>Query</th>\n",
       "      <th>Label</th>\n",
       "      <th>Output</th>\n",
       "    </tr>\n",
       "  </thead>\n",
       "  <tbody>\n",
       "    <tr>\n",
       "      <th>0</th>\n",
       "      <td>What geographic and environmental factors led ...</td>\n",
       "      <td>The Fertile Crescent and Yellow River Valley b...</td>\n",
       "      <td></td>\n",
       "    </tr>\n",
       "    <tr>\n",
       "      <th>1</th>\n",
       "      <td>How did the administrative systems of the Roma...</td>\n",
       "      <td>The Roman Empire utilized a decentralized appr...</td>\n",
       "      <td></td>\n",
       "    </tr>\n",
       "    <tr>\n",
       "      <th>2</th>\n",
       "      <td>In what ways did the economic structures estab...</td>\n",
       "      <td>European colonialism imposed extractive econom...</td>\n",
       "      <td></td>\n",
       "    </tr>\n",
       "    <tr>\n",
       "      <th>3</th>\n",
       "      <td>How have modern historians re-evaluated the ca...</td>\n",
       "      <td>Earlier narratives, particularly in Western Eu...</td>\n",
       "      <td></td>\n",
       "    </tr>\n",
       "    <tr>\n",
       "      <th>4</th>\n",
       "      <td>What might have been the global political and ...</td>\n",
       "      <td>Had the Islamic Golden Age persisted beyond th...</td>\n",
       "      <td></td>\n",
       "    </tr>\n",
       "  </tbody>\n",
       "</table>\n",
       "</div>"
      ],
      "text/plain": [
       "                                               Query  \\\n",
       "0  What geographic and environmental factors led ...   \n",
       "1  How did the administrative systems of the Roma...   \n",
       "2  In what ways did the economic structures estab...   \n",
       "3  How have modern historians re-evaluated the ca...   \n",
       "4  What might have been the global political and ...   \n",
       "\n",
       "                                               Label Output  \n",
       "0  The Fertile Crescent and Yellow River Valley b...         \n",
       "1  The Roman Empire utilized a decentralized appr...         \n",
       "2  European colonialism imposed extractive econom...         \n",
       "3  Earlier narratives, particularly in Western Eu...         \n",
       "4  Had the Islamic Golden Age persisted beyond th...         "
      ]
     },
     "execution_count": 49,
     "metadata": {},
     "output_type": "execute_result"
    }
   ],
   "source": [
    "test_queries5 = pd.read_csv('test_queries5.csv', usecols=['Query', 'Label', 'Output'])\n",
    "test_queries5['Output'] = test_queries5['Output'].fillna('')\n",
    "test_queries5.head()"
   ]
  },
  {
   "cell_type": "code",
   "execution_count": 52,
   "id": "a868e228",
   "metadata": {},
   "outputs": [
    {
     "name": "stdout",
     "output_type": "stream",
     "text": [
      "Found 61113 relevant papers for query: What geographic and environmental factors led to the simultaneous rise of agriculture in both the Fertile Crescent and the Yellow River Valley, and how did these shape their respective societies?\n",
      "Processed query 1/10: What geographic and environmental factors led to the simultaneous rise of agriculture in both the Fertile Crescent and the Yellow River Valley, and how did these shape their respective societies?\n",
      "\n",
      "Found 33930 relevant papers for query: How did the administrative systems of the Roman Empire and the Han Dynasty differ in terms of governance, military organization, and integration of conquered peoples?\n",
      "Processed query 2/10: How did the administrative systems of the Roman Empire and the Han Dynasty differ in terms of governance, military organization, and integration of conquered peoples?\n",
      "\n",
      "Found 101198 relevant papers for query: In what ways did the economic structures established during European colonialism in Sub-Saharan Africa continue to affect post-independence development and political stability?\n",
      "Processed query 3/10: In what ways did the economic structures established during European colonialism in Sub-Saharan Africa continue to affect post-independence development and political stability?\n",
      "\n",
      "Found 1531 relevant papers for query: How have modern historians re-evaluated the causes of the Crusades, and in what ways have these interpretations shifted from earlier Eurocentric narratives?\n",
      "Processed query 4/10: How have modern historians re-evaluated the causes of the Crusades, and in what ways have these interpretations shifted from earlier Eurocentric narratives?\n",
      "\n",
      "Found 64892 relevant papers for query: What might have been the global political and technological trajectory if the Islamic Golden Age had not declined after the 13th century?\n",
      "Processed query 5/10: What might have been the global political and technological trajectory if the Islamic Golden Age had not declined after the 13th century?\n",
      "\n",
      "Found 40844 relevant papers for query: How did the Protestant Reformation alter not only religious authority but also the development of national identities and literacy in Europe?\n",
      "Processed query 6/10: How did the Protestant Reformation alter not only religious authority but also the development of national identities and literacy in Europe?\n",
      "\n",
      "Found 56709 relevant papers for query: What ethical and political challenges arise when nations attempt to reconcile with historical atrocities, such as Japan’s occupation of Korea or the Armenian Genocide?\n",
      "Processed query 7/10: What ethical and political challenges arise when nations attempt to reconcile with historical atrocities, such as Japan’s occupation of Korea or the Armenian Genocide?\n",
      "\n",
      "Found 45950 relevant papers for query: How did the Industrial Revolution alter global power dynamics between Western Europe and non-Western regions during the 19th century?\n",
      "Processed query 8/10: How did the Industrial Revolution alter global power dynamics between Western Europe and non-Western regions during the 19th century?\n",
      "\n",
      "Found 3032 relevant papers for query: In what ways did the Enlightenment philosophies directly shape the French and Haitian Revolutions, and how did their outcomes diverge?\n",
      "Processed query 9/10: In what ways did the Enlightenment philosophies directly shape the French and Haitian Revolutions, and how did their outcomes diverge?\n",
      "\n",
      "Found 38693 relevant papers for query: How did the Cold War influence the development of alliances and proxy wars in the Global South, and what legacies of this period remain today?\n",
      "Processed query 10/10: How did the Cold War influence the development of alliances and proxy wars in the Global South, and what legacies of this period remain today?\n",
      "\n"
     ]
    }
   ],
   "source": [
    "test_queries5 = process_queries(test_queries5)\n",
    "test_queries5.to_csv('test_queries5.csv', index=False)"
   ]
  },
  {
   "cell_type": "code",
   "execution_count": 23,
   "id": "47b0729b",
   "metadata": {},
   "outputs": [
    {
     "data": {
      "text/html": [
       "<div>\n",
       "<style scoped>\n",
       "    .dataframe tbody tr th:only-of-type {\n",
       "        vertical-align: middle;\n",
       "    }\n",
       "\n",
       "    .dataframe tbody tr th {\n",
       "        vertical-align: top;\n",
       "    }\n",
       "\n",
       "    .dataframe thead th {\n",
       "        text-align: right;\n",
       "    }\n",
       "</style>\n",
       "<table border=\"1\" class=\"dataframe\">\n",
       "  <thead>\n",
       "    <tr style=\"text-align: right;\">\n",
       "      <th></th>\n",
       "      <th>Query</th>\n",
       "      <th>Label</th>\n",
       "      <th>Output</th>\n",
       "    </tr>\n",
       "  </thead>\n",
       "  <tbody>\n",
       "    <tr>\n",
       "      <th>0</th>\n",
       "      <td>How did the economic policies of the Gilded Ag...</td>\n",
       "      <td>During the Gilded Age (approximately 1870–1900...</td>\n",
       "      <td></td>\n",
       "    </tr>\n",
       "    <tr>\n",
       "      <th>1</th>\n",
       "      <td>Evaluate the role of geography and disease in ...</td>\n",
       "      <td>Geography determined where Europeans settled a...</td>\n",
       "      <td></td>\n",
       "    </tr>\n",
       "    <tr>\n",
       "      <th>2</th>\n",
       "      <td>To what extent did the Constitution of 1787 re...</td>\n",
       "      <td>The Constitution was a compromise between demo...</td>\n",
       "      <td></td>\n",
       "    </tr>\n",
       "    <tr>\n",
       "      <th>3</th>\n",
       "      <td>How did the United States justify its expansio...</td>\n",
       "      <td>The U.S. framed westward expansion as a divine...</td>\n",
       "      <td></td>\n",
       "    </tr>\n",
       "    <tr>\n",
       "      <th>4</th>\n",
       "      <td>Compare the strategies and limitations of the ...</td>\n",
       "      <td>The Civil Rights Movement used nonviolent prot...</td>\n",
       "      <td></td>\n",
       "    </tr>\n",
       "  </tbody>\n",
       "</table>\n",
       "</div>"
      ],
      "text/plain": [
       "                                               Query  \\\n",
       "0  How did the economic policies of the Gilded Ag...   \n",
       "1  Evaluate the role of geography and disease in ...   \n",
       "2  To what extent did the Constitution of 1787 re...   \n",
       "3  How did the United States justify its expansio...   \n",
       "4  Compare the strategies and limitations of the ...   \n",
       "\n",
       "                                               Label Output  \n",
       "0  During the Gilded Age (approximately 1870–1900...         \n",
       "1  Geography determined where Europeans settled a...         \n",
       "2  The Constitution was a compromise between demo...         \n",
       "3  The U.S. framed westward expansion as a divine...         \n",
       "4  The Civil Rights Movement used nonviolent prot...         "
      ]
     },
     "execution_count": 23,
     "metadata": {},
     "output_type": "execute_result"
    }
   ],
   "source": [
    "test_queries6 = pd.read_csv('test_queries6.csv', usecols=['Query', 'Label', 'Output'])\n",
    "test_queries6['Output'] = test_queries6['Output'].fillna('')\n",
    "test_queries6.head()"
   ]
  },
  {
   "cell_type": "code",
   "execution_count": 24,
   "id": "40242106",
   "metadata": {},
   "outputs": [
    {
     "name": "stdout",
     "output_type": "stream",
     "text": [
      "Found 47889 relevant papers for query: How did the economic policies of the Gilded Age contribute to both industrial growth and systemic inequality, and what were the long-term consequences for American labor movements?\n",
      "Processed query 1/10: How did the economic policies of the Gilded Age contribute to both industrial growth and systemic inequality, and what were the long-term consequences for American labor movements?\n",
      "\n",
      "Found 94147 relevant papers for query: Evaluate the role of geography and disease in shaping the outcome of European-Native American encounters during the 17th century colonization of North America.\n",
      "Processed query 2/10: Evaluate the role of geography and disease in shaping the outcome of European-Native American encounters during the 17th century colonization of North America.\n",
      "\n",
      "Found 139848 relevant papers for query: To what extent did the Constitution of 1787 reflect both the revolutionary ideals of the American colonists and the desire to maintain social order and elite control?\n",
      "Processed query 3/10: To what extent did the Constitution of 1787 reflect both the revolutionary ideals of the American colonists and the desire to maintain social order and elite control?\n",
      "\n",
      "Found 58614 relevant papers for query: How did the United States justify its expansionist policies in the 19th century, and how did ideologies like Manifest Destiny contribute to internal conflict?\n",
      "Processed query 4/10: How did the United States justify its expansionist policies in the 19th century, and how did ideologies like Manifest Destiny contribute to internal conflict?\n",
      "\n",
      "Found 34299 relevant papers for query: Compare the strategies and limitations of the Civil Rights Movement of the 1960s with those of the Black Lives Matter movement in the 21st century. In what ways did institutional resistance persist or evolve?\n",
      "Processed query 5/10: Compare the strategies and limitations of the Civil Rights Movement of the 1960s with those of the Black Lives Matter movement in the 21st century. In what ways did institutional resistance persist or evolve?\n",
      "\n",
      "Found 32229 relevant papers for query: How did the New Deal reshape the relationship between the federal government and American citizens, and in what ways did it both alleviate and perpetuate racial and gender inequalities?\n",
      "Processed query 6/10: How did the New Deal reshape the relationship between the federal government and American citizens, and in what ways did it both alleviate and perpetuate racial and gender inequalities?\n",
      "\n",
      "Found 117399 relevant papers for query: What were the key political, social, and legal mechanisms used to maintain racial segregation in the United States after the Civil War, and how were these eventually dismantled?\n",
      "Processed query 7/10: What were the key political, social, and legal mechanisms used to maintain racial segregation in the United States after the Civil War, and how were these eventually dismantled?\n",
      "\n",
      "Found 72354 relevant papers for query: How did American involvement in World War I influence domestic civil liberties, immigration policy, and the structure of American national identity?\n",
      "Processed query 8/10: How did American involvement in World War I influence domestic civil liberties, immigration policy, and the structure of American national identity?\n",
      "\n",
      "Found 119668 relevant papers for query: Examine the impact of Cold War foreign policy on domestic American life during the 1950s. How did anti-communism shape education, media, and political discourse?\n",
      "Processed query 9/10: Examine the impact of Cold War foreign policy on domestic American life during the 1950s. How did anti-communism shape education, media, and political discourse?\n",
      "\n",
      "Found 104737 relevant papers for query: In what ways did the Reagan administration redefine the conservative movement in the United States, and how did this affect debates around taxation, federal power, and social welfare?\n",
      "Processed query 10/10: In what ways did the Reagan administration redefine the conservative movement in the United States, and how did this affect debates around taxation, federal power, and social welfare?\n",
      "\n"
     ]
    }
   ],
   "source": [
    "test_queries6 = process_queries(test_queries6)\n",
    "test_queries6.to_csv('test_queries6.csv', index=False)"
   ]
  },
  {
   "cell_type": "code",
   "execution_count": 25,
   "id": "a43e974e",
   "metadata": {},
   "outputs": [
    {
     "data": {
      "text/html": [
       "<div>\n",
       "<style scoped>\n",
       "    .dataframe tbody tr th:only-of-type {\n",
       "        vertical-align: middle;\n",
       "    }\n",
       "\n",
       "    .dataframe tbody tr th {\n",
       "        vertical-align: top;\n",
       "    }\n",
       "\n",
       "    .dataframe thead th {\n",
       "        text-align: right;\n",
       "    }\n",
       "</style>\n",
       "<table border=\"1\" class=\"dataframe\">\n",
       "  <thead>\n",
       "    <tr style=\"text-align: right;\">\n",
       "      <th></th>\n",
       "      <th>Query</th>\n",
       "      <th>Label</th>\n",
       "      <th>Output</th>\n",
       "    </tr>\n",
       "  </thead>\n",
       "  <tbody>\n",
       "    <tr>\n",
       "      <th>0</th>\n",
       "      <td>How do epigenetic modifications influence gene...</td>\n",
       "      <td>Epigenetic modifications regulate gene activit...</td>\n",
       "      <td></td>\n",
       "    </tr>\n",
       "    <tr>\n",
       "      <th>1</th>\n",
       "      <td>Describe the mechanisms of horizontal gene tra...</td>\n",
       "      <td>Horizontal gene transfer (HGT) allows prokaryo...</td>\n",
       "      <td></td>\n",
       "    </tr>\n",
       "    <tr>\n",
       "      <th>2</th>\n",
       "      <td>Compare and contrast the biochemical pathways ...</td>\n",
       "      <td>Photosynthesis and cellular respiration are co...</td>\n",
       "      <td></td>\n",
       "    </tr>\n",
       "    <tr>\n",
       "      <th>3</th>\n",
       "      <td>Explain the significance of the Hardy-Weinberg...</td>\n",
       "      <td>The Hardy-Weinberg equilibrium provides a math...</td>\n",
       "      <td></td>\n",
       "    </tr>\n",
       "    <tr>\n",
       "      <th>4</th>\n",
       "      <td>How do changes in biodiversity affect ecosyste...</td>\n",
       "      <td>Biodiversity enhances ecosystem resilience by ...</td>\n",
       "      <td></td>\n",
       "    </tr>\n",
       "  </tbody>\n",
       "</table>\n",
       "</div>"
      ],
      "text/plain": [
       "                                               Query  \\\n",
       "0  How do epigenetic modifications influence gene...   \n",
       "1  Describe the mechanisms of horizontal gene tra...   \n",
       "2  Compare and contrast the biochemical pathways ...   \n",
       "3  Explain the significance of the Hardy-Weinberg...   \n",
       "4  How do changes in biodiversity affect ecosyste...   \n",
       "\n",
       "                                               Label Output  \n",
       "0  Epigenetic modifications regulate gene activit...         \n",
       "1  Horizontal gene transfer (HGT) allows prokaryo...         \n",
       "2  Photosynthesis and cellular respiration are co...         \n",
       "3  The Hardy-Weinberg equilibrium provides a math...         \n",
       "4  Biodiversity enhances ecosystem resilience by ...         "
      ]
     },
     "execution_count": 25,
     "metadata": {},
     "output_type": "execute_result"
    }
   ],
   "source": [
    "test_queries7 = pd.read_csv('test_queries7.csv', usecols=['Query', 'Label', 'Output'])\n",
    "test_queries7['Output'] = test_queries7['Output'].fillna('')\n",
    "test_queries7.head()"
   ]
  },
  {
   "cell_type": "code",
   "execution_count": 26,
   "id": "f61c3e35",
   "metadata": {},
   "outputs": [
    {
     "name": "stdout",
     "output_type": "stream",
     "text": [
      "Found 53416 relevant papers for query: How do epigenetic modifications influence gene expression without altering the DNA sequence, and what are the implications for inheritance and disease?\n",
      "Processed query 1/10: How do epigenetic modifications influence gene expression without altering the DNA sequence, and what are the implications for inheritance and disease?\n",
      "\n",
      "Found 38348 relevant papers for query: Describe the mechanisms of horizontal gene transfer in prokaryotes. How do these mechanisms contribute to antibiotic resistance and microbial evolution?\n",
      "Processed query 2/10: Describe the mechanisms of horizontal gene transfer in prokaryotes. How do these mechanisms contribute to antibiotic resistance and microbial evolution?\n",
      "\n",
      "Found 53246 relevant papers for query: Compare and contrast the biochemical pathways of photosynthesis and cellular respiration. How do their interdependencies shape ecosystem energy flow?\n",
      "Processed query 3/10: Compare and contrast the biochemical pathways of photosynthesis and cellular respiration. How do their interdependencies shape ecosystem energy flow?\n",
      "\n",
      "Found 53842 relevant papers for query: Explain the significance of the Hardy-Weinberg equilibrium in population genetics. Under what conditions does it fail, and how can those deviations be interpreted biologically?\n",
      "Processed query 4/10: Explain the significance of the Hardy-Weinberg equilibrium in population genetics. Under what conditions does it fail, and how can those deviations be interpreted biologically?\n",
      "\n",
      "Found 67969 relevant papers for query: How do changes in biodiversity affect ecosystem resilience and function, particularly in the context of climate change and human activity?\n",
      "Processed query 5/10: How do changes in biodiversity affect ecosystem resilience and function, particularly in the context of climate change and human activity?\n",
      "\n",
      "Found 39930 relevant papers for query: A mutation in the lac operon prevents the repressor protein from binding to the operator. Predict the consequences for gene expression in both the presence and absence of lactose.\n",
      "Processed query 6/10: A mutation in the lac operon prevents the repressor protein from binding to the operator. Predict the consequences for gene expression in both the presence and absence of lactose.\n",
      "\n",
      "Found 106185 relevant papers for query: How does allosteric regulation enable fine-tuned control of enzyme activity in metabolic pathways? Use phosphofructokinase in glycolysis as a case study.\n",
      "Processed query 7/10: How does allosteric regulation enable fine-tuned control of enzyme activity in metabolic pathways? Use phosphofructokinase in glycolysis as a case study.\n",
      "\n",
      "Found 8813 relevant papers for query: What physiological adaptations allow animals living in extreme environments—such as deep-sea hydrothermal vents or polar regions—to survive and reproduce?\n",
      "Processed query 8/10: What physiological adaptations allow animals living in extreme environments—such as deep-sea hydrothermal vents or polar regions—to survive and reproduce?\n",
      "\n",
      "Found 79832 relevant papers for query: Design an experiment to test the effect of a novel hormone on plant growth. Include hypotheses, controls, variables, and expected outcomes.\n",
      "Processed query 9/10: Design an experiment to test the effect of a novel hormone on plant growth. Include hypotheses, controls, variables, and expected outcomes.\n",
      "\n",
      "Found 167956 relevant papers for query: How does the immune system differentiate between self and non-self, and what failures in this process lead to autoimmune diseases such as lupus or Type 1 diabetes?\n",
      "Processed query 10/10: How does the immune system differentiate between self and non-self, and what failures in this process lead to autoimmune diseases such as lupus or Type 1 diabetes?\n",
      "\n"
     ]
    }
   ],
   "source": [
    "test_queries7 = process_queries(test_queries7)\n",
    "test_queries7.to_csv('test_queries7.csv', index=False)"
   ]
  },
  {
   "cell_type": "code",
   "execution_count": 27,
   "id": "8e43516b",
   "metadata": {},
   "outputs": [
    {
     "data": {
      "text/html": [
       "<div>\n",
       "<style scoped>\n",
       "    .dataframe tbody tr th:only-of-type {\n",
       "        vertical-align: middle;\n",
       "    }\n",
       "\n",
       "    .dataframe tbody tr th {\n",
       "        vertical-align: top;\n",
       "    }\n",
       "\n",
       "    .dataframe thead th {\n",
       "        text-align: right;\n",
       "    }\n",
       "</style>\n",
       "<table border=\"1\" class=\"dataframe\">\n",
       "  <thead>\n",
       "    <tr style=\"text-align: right;\">\n",
       "      <th></th>\n",
       "      <th>Query</th>\n",
       "      <th>Label</th>\n",
       "      <th>Output</th>\n",
       "    </tr>\n",
       "  </thead>\n",
       "  <tbody>\n",
       "    <tr>\n",
       "      <th>0</th>\n",
       "      <td>Explain the concept of theory of mind in devel...</td>\n",
       "      <td>Theory of mind (ToM) is the ability to attribu...</td>\n",
       "      <td></td>\n",
       "    </tr>\n",
       "    <tr>\n",
       "      <th>1</th>\n",
       "      <td>Discuss the role of implicit bias in social co...</td>\n",
       "      <td>Implicit bias refers to unconscious associatio...</td>\n",
       "      <td></td>\n",
       "    </tr>\n",
       "    <tr>\n",
       "      <th>2</th>\n",
       "      <td>How has the field of positive psychology redef...</td>\n",
       "      <td>Positive psychology shifts the focus from trea...</td>\n",
       "      <td></td>\n",
       "    </tr>\n",
       "    <tr>\n",
       "      <th>3</th>\n",
       "      <td>To what extent do genetic predispositions and ...</td>\n",
       "      <td>Twin studies show that schizophrenia has a her...</td>\n",
       "      <td></td>\n",
       "    </tr>\n",
       "    <tr>\n",
       "      <th>4</th>\n",
       "      <td>What are the psychological and neurobiological...</td>\n",
       "      <td>Addiction arises from a complex interaction be...</td>\n",
       "      <td></td>\n",
       "    </tr>\n",
       "  </tbody>\n",
       "</table>\n",
       "</div>"
      ],
      "text/plain": [
       "                                               Query  \\\n",
       "0  Explain the concept of theory of mind in devel...   \n",
       "1  Discuss the role of implicit bias in social co...   \n",
       "2  How has the field of positive psychology redef...   \n",
       "3  To what extent do genetic predispositions and ...   \n",
       "4  What are the psychological and neurobiological...   \n",
       "\n",
       "                                               Label Output  \n",
       "0  Theory of mind (ToM) is the ability to attribu...         \n",
       "1  Implicit bias refers to unconscious associatio...         \n",
       "2  Positive psychology shifts the focus from trea...         \n",
       "3  Twin studies show that schizophrenia has a her...         \n",
       "4  Addiction arises from a complex interaction be...         "
      ]
     },
     "execution_count": 27,
     "metadata": {},
     "output_type": "execute_result"
    }
   ],
   "source": [
    "test_queries8 = pd.read_csv('test_queries8.csv', usecols=['Query', 'Label', 'Output'])\n",
    "test_queries8['Output'] = test_queries8['Output'].fillna('')\n",
    "test_queries8.head()"
   ]
  },
  {
   "cell_type": "code",
   "execution_count": 28,
   "id": "90996459",
   "metadata": {},
   "outputs": [
    {
     "name": "stdout",
     "output_type": "stream",
     "text": [
      "Found 143690 relevant papers for query: Explain the concept of theory of mind in developmental psychology. How is it assessed, and what are its implications for understanding autism spectrum disorders?\n",
      "Processed query 1/10: Explain the concept of theory of mind in developmental psychology. How is it assessed, and what are its implications for understanding autism spectrum disorders?\n",
      "\n",
      "Found 71295 relevant papers for query: Discuss the role of implicit bias in social cognition. How do researchers measure implicit attitudes, and what interventions have shown promise in reducing them?\n",
      "Processed query 2/10: Discuss the role of implicit bias in social cognition. How do researchers measure implicit attitudes, and what interventions have shown promise in reducing them?\n",
      "\n",
      "Found 136872 relevant papers for query: How has the field of positive psychology redefined traditional clinical approaches to mental health, and what critiques exist regarding its application in diverse populations?\n",
      "Processed query 3/10: How has the field of positive psychology redefined traditional clinical approaches to mental health, and what critiques exist regarding its application in diverse populations?\n",
      "\n",
      "Found 112197 relevant papers for query: To what extent do genetic predispositions and environmental factors interact in the development of schizophrenia? Use evidence from twin and adoption studies.\n",
      "Processed query 4/10: To what extent do genetic predispositions and environmental factors interact in the development of schizophrenia? Use evidence from twin and adoption studies.\n",
      "\n",
      "Found 20754 relevant papers for query: What are the psychological and neurobiological mechanisms underlying addiction, and how do current treatment models target both components?\n",
      "Processed query 5/10: What are the psychological and neurobiological mechanisms underlying addiction, and how do current treatment models target both components?\n",
      "\n",
      "Found 28272 relevant papers for query: How do cultural differences shape the expression, experience, and interpretation of psychological disorders such as depression or anxiety?\n",
      "Processed query 6/10: How do cultural differences shape the expression, experience, and interpretation of psychological disorders such as depression or anxiety?\n",
      "\n",
      "Found 42734 relevant papers for query: Design an experimental study to investigate the effects of sleep deprivation on emotional regulation. What hypotheses, controls, and outcome measures would you include?\n",
      "Processed query 7/10: Design an experimental study to investigate the effects of sleep deprivation on emotional regulation. What hypotheses, controls, and outcome measures would you include?\n",
      "\n",
      "Found 14606 relevant papers for query: In what ways can early childhood attachment styles predict adult relationship patterns, and how do contemporary theories expand on Bowlby’s original framework?\n",
      "Processed query 8/10: In what ways can early childhood attachment styles predict adult relationship patterns, and how do contemporary theories expand on Bowlby’s original framework?\n",
      "\n",
      "Found 22517 relevant papers for query: Compare and contrast the neural correlates of short-term memory and working memory. How have neuroimaging techniques advanced our understanding of these processes?\n",
      "Processed query 9/10: Compare and contrast the neural correlates of short-term memory and working memory. How have neuroimaging techniques advanced our understanding of these processes?\n",
      "\n",
      "Found 30928 relevant papers for query: How does cognitive dissonance influence decision-making processes in high-stakes environments, and what strategies can individuals use to resolve it effectively?\n",
      "Processed query 10/10: How does cognitive dissonance influence decision-making processes in high-stakes environments, and what strategies can individuals use to resolve it effectively?\n",
      "\n"
     ]
    }
   ],
   "source": [
    "test_queries8 = process_queries(test_queries8)\n",
    "test_queries8.to_csv('test_queries8.csv', index=False)"
   ]
  },
  {
   "cell_type": "code",
   "execution_count": 22,
   "id": "84813bf3",
   "metadata": {},
   "outputs": [
    {
     "data": {
      "text/html": [
       "<div>\n",
       "<style scoped>\n",
       "    .dataframe tbody tr th:only-of-type {\n",
       "        vertical-align: middle;\n",
       "    }\n",
       "\n",
       "    .dataframe tbody tr th {\n",
       "        vertical-align: top;\n",
       "    }\n",
       "\n",
       "    .dataframe thead th {\n",
       "        text-align: right;\n",
       "    }\n",
       "</style>\n",
       "<table border=\"1\" class=\"dataframe\">\n",
       "  <thead>\n",
       "    <tr style=\"text-align: right;\">\n",
       "      <th></th>\n",
       "      <th>Query</th>\n",
       "      <th>Label</th>\n",
       "      <th>Output</th>\n",
       "    </tr>\n",
       "  </thead>\n",
       "  <tbody>\n",
       "    <tr>\n",
       "      <th>0</th>\n",
       "      <td>How do restorative justice practices challenge...</td>\n",
       "      <td>Restorative justice focuses on healing, accoun...</td>\n",
       "      <td></td>\n",
       "    </tr>\n",
       "    <tr>\n",
       "      <th>1</th>\n",
       "      <td>Examine the role of stare decisis in Supreme C...</td>\n",
       "      <td>Stare decisis—Latin for “to stand by things de...</td>\n",
       "      <td></td>\n",
       "    </tr>\n",
       "    <tr>\n",
       "      <th>2</th>\n",
       "      <td>To what extent does antitrust law effectively ...</td>\n",
       "      <td>Traditional antitrust law, focused on price-fi...</td>\n",
       "      <td></td>\n",
       "    </tr>\n",
       "    <tr>\n",
       "      <th>3</th>\n",
       "      <td>Evaluate the constitutional arguments for and ...</td>\n",
       "      <td>Executive orders allow U.S. presidents to mana...</td>\n",
       "      <td></td>\n",
       "    </tr>\n",
       "    <tr>\n",
       "      <th>4</th>\n",
       "      <td>How do intellectual property laws handle deriv...</td>\n",
       "      <td>The legal treatment of derivative works produc...</td>\n",
       "      <td></td>\n",
       "    </tr>\n",
       "  </tbody>\n",
       "</table>\n",
       "</div>"
      ],
      "text/plain": [
       "                                               Query  \\\n",
       "0  How do restorative justice practices challenge...   \n",
       "1  Examine the role of stare decisis in Supreme C...   \n",
       "2  To what extent does antitrust law effectively ...   \n",
       "3  Evaluate the constitutional arguments for and ...   \n",
       "4  How do intellectual property laws handle deriv...   \n",
       "\n",
       "                                               Label Output  \n",
       "0  Restorative justice focuses on healing, accoun...         \n",
       "1  Stare decisis—Latin for “to stand by things de...         \n",
       "2  Traditional antitrust law, focused on price-fi...         \n",
       "3  Executive orders allow U.S. presidents to mana...         \n",
       "4  The legal treatment of derivative works produc...         "
      ]
     },
     "execution_count": 22,
     "metadata": {},
     "output_type": "execute_result"
    }
   ],
   "source": [
    "test_queries9 = pd.read_csv('test_queries9.csv', usecols=['Query', 'Label', 'Output'])\n",
    "test_queries9['Output'] = test_queries9['Output'].fillna('')\n",
    "test_queries9.head()"
   ]
  },
  {
   "cell_type": "code",
   "execution_count": 23,
   "id": "1e0dab99",
   "metadata": {},
   "outputs": [
    {
     "name": "stdout",
     "output_type": "stream",
     "text": [
      "Found 70279 relevant papers for query: How do restorative justice practices challenge traditional retributive models in criminal law, and what legal frameworks are necessary to implement them more broadly within state justice systems?\n",
      "Processed query 1/10: How do restorative justice practices challenge traditional retributive models in criminal law, and what legal frameworks are necessary to implement them more broadly within state justice systems?\n",
      "\n",
      "Found 8429 relevant papers for query: Examine the role of stare decisis in Supreme Court rulings. Under what conditions should precedent be overturned, and how has this principle evolved in controversial decisions?\n",
      "Processed query 2/10: Examine the role of stare decisis in Supreme Court rulings. Under what conditions should precedent be overturned, and how has this principle evolved in controversial decisions?\n",
      "\n",
      "Found 117615 relevant papers for query: To what extent does antitrust law effectively regulate modern tech monopolies that rely on data aggregation and platform ecosystems rather than traditional market pricing power?\n",
      "Processed query 3/10: To what extent does antitrust law effectively regulate modern tech monopolies that rely on data aggregation and platform ecosystems rather than traditional market pricing power?\n",
      "\n",
      "Found 52884 relevant papers for query: Evaluate the constitutional arguments for and against the use of executive orders in bypassing legislative deadlock in the U.S. federal government. Are there legal limits to executive power in this context?\n",
      "Processed query 4/10: Evaluate the constitutional arguments for and against the use of executive orders in bypassing legislative deadlock in the U.S. federal government. Are there legal limits to executive power in this context?\n",
      "\n",
      "Found 9514 relevant papers for query: How do intellectual property laws handle derivative works created using generative AI models, and what precedents (if any) currently guide courts in resolving such disputes?\n",
      "Processed query 5/10: How do intellectual property laws handle derivative works created using generative AI models, and what precedents (if any) currently guide courts in resolving such disputes?\n",
      "\n",
      "Found 148883 relevant papers for query: Compare and contrast the adversarial and inquisitorial legal systems in terms of efficiency, fairness, and protection of the accused. Which system is better suited for modern complex criminal litigation?\n",
      "Processed query 6/10: Compare and contrast the adversarial and inquisitorial legal systems in terms of efficiency, fairness, and protection of the accused. Which system is better suited for modern complex criminal litigation?\n",
      "\n",
      "Found 15194 relevant papers for query: What are the legal and ethical tensions involved in the use of predictive policing algorithms under the Fourth Amendment in the United States?\n",
      "Processed query 7/10: What are the legal and ethical tensions involved in the use of predictive policing algorithms under the Fourth Amendment in the United States?\n",
      "\n",
      "Found 45445 relevant papers for query: Analyze the evolution and legal implications of the “corporate veil” doctrine in common law jurisdictions. When should courts pierce the veil, and what are the consequences of doing so?\n",
      "Processed query 8/10: Analyze the evolution and legal implications of the “corporate veil” doctrine in common law jurisdictions. When should courts pierce the veil, and what are the consequences of doing so?\n",
      "\n",
      "Found 53352 relevant papers for query: In what ways does international humanitarian law balance military necessity with the protection of civilians during armed conflict, and where does it fall short?\n",
      "Processed query 9/10: In what ways does international humanitarian law balance military necessity with the protection of civilians during armed conflict, and where does it fall short?\n",
      "\n",
      "Found 73233 relevant papers for query: How does the principle of proportionality function in constitutional law when courts evaluate the legitimacy of government restrictions on fundamental rights?\n",
      "Processed query 10/10: How does the principle of proportionality function in constitutional law when courts evaluate the legitimacy of government restrictions on fundamental rights?\n",
      "\n"
     ]
    }
   ],
   "source": [
    "test_queries9 = process_queries(test_queries9)\n",
    "test_queries9.to_csv('test_queries9.csv', index=False)"
   ]
  },
  {
   "cell_type": "code",
   "execution_count": 24,
   "id": "3c24188b",
   "metadata": {},
   "outputs": [
    {
     "data": {
      "text/html": [
       "<div>\n",
       "<style scoped>\n",
       "    .dataframe tbody tr th:only-of-type {\n",
       "        vertical-align: middle;\n",
       "    }\n",
       "\n",
       "    .dataframe tbody tr th {\n",
       "        vertical-align: top;\n",
       "    }\n",
       "\n",
       "    .dataframe thead th {\n",
       "        text-align: right;\n",
       "    }\n",
       "</style>\n",
       "<table border=\"1\" class=\"dataframe\">\n",
       "  <thead>\n",
       "    <tr style=\"text-align: right;\">\n",
       "      <th></th>\n",
       "      <th>Query</th>\n",
       "      <th>Label</th>\n",
       "      <th>Output</th>\n",
       "    </tr>\n",
       "  </thead>\n",
       "  <tbody>\n",
       "    <tr>\n",
       "      <th>0</th>\n",
       "      <td>Discuss the methodological challenges of recon...</td>\n",
       "      <td>The comparative method reconstructs proto-lang...</td>\n",
       "      <td></td>\n",
       "    </tr>\n",
       "    <tr>\n",
       "      <th>1</th>\n",
       "      <td>Explain how language acquisition differs for s...</td>\n",
       "      <td>Children acquire signed languages like ASL on ...</td>\n",
       "      <td></td>\n",
       "    </tr>\n",
       "    <tr>\n",
       "      <th>2</th>\n",
       "      <td>How does Grice’s Cooperative Principle and its...</td>\n",
       "      <td>Grice’s Cooperative Principle posits that effe...</td>\n",
       "      <td></td>\n",
       "    </tr>\n",
       "    <tr>\n",
       "      <th>3</th>\n",
       "      <td>To what extent can typological features be pre...</td>\n",
       "      <td>Typological features often correlate with gene...</td>\n",
       "      <td></td>\n",
       "    </tr>\n",
       "    <tr>\n",
       "      <th>4</th>\n",
       "      <td>How does Optimality Theory differ from rule-ba...</td>\n",
       "      <td>Optimality Theory (OT) replaces sequential pho...</td>\n",
       "      <td></td>\n",
       "    </tr>\n",
       "  </tbody>\n",
       "</table>\n",
       "</div>"
      ],
      "text/plain": [
       "                                               Query  \\\n",
       "0  Discuss the methodological challenges of recon...   \n",
       "1  Explain how language acquisition differs for s...   \n",
       "2  How does Grice’s Cooperative Principle and its...   \n",
       "3  To what extent can typological features be pre...   \n",
       "4  How does Optimality Theory differ from rule-ba...   \n",
       "\n",
       "                                               Label Output  \n",
       "0  The comparative method reconstructs proto-lang...         \n",
       "1  Children acquire signed languages like ASL on ...         \n",
       "2  Grice’s Cooperative Principle posits that effe...         \n",
       "3  Typological features often correlate with gene...         \n",
       "4  Optimality Theory (OT) replaces sequential pho...         "
      ]
     },
     "execution_count": 24,
     "metadata": {},
     "output_type": "execute_result"
    }
   ],
   "source": [
    "test_queries10 = pd.read_csv('test_queries10.csv', usecols=['Query', 'Label', 'Output'])\n",
    "test_queries10['Output'] = test_queries10['Output'].fillna('')\n",
    "test_queries10.head()"
   ]
  },
  {
   "cell_type": "code",
   "execution_count": 25,
   "id": "dfb2ae6b",
   "metadata": {},
   "outputs": [
    {
     "name": "stdout",
     "output_type": "stream",
     "text": [
      "Found 28618 relevant papers for query: Discuss the methodological challenges of reconstructing proto-languages using the comparative method. How do linguists address issues such as borrowing and convergence?\n",
      "Processed query 1/10: Discuss the methodological challenges of reconstructing proto-languages using the comparative method. How do linguists address issues such as borrowing and convergence?\n",
      "\n",
      "Found 45040 relevant papers for query: Explain how language acquisition differs for signed languages compared to spoken languages. What does this tell us about the modality-independence of linguistic structure?\n",
      "Processed query 2/10: Explain how language acquisition differs for signed languages compared to spoken languages. What does this tell us about the modality-independence of linguistic structure?\n",
      "\n",
      "Found 34524 relevant papers for query: How does Grice’s Cooperative Principle and its maxims help explain implicature in discourse, and what are the limitations of this model?\n",
      "Processed query 3/10: How does Grice’s Cooperative Principle and its maxims help explain implicature in discourse, and what are the limitations of this model?\n",
      "\n",
      "Found 56926 relevant papers for query: To what extent can typological features be predicted based on areal contact versus genetic descent in world language families? Use examples to illustrate.\n",
      "Processed query 4/10: To what extent can typological features be predicted based on areal contact versus genetic descent in world language families? Use examples to illustrate.\n",
      "\n",
      "Found 80171 relevant papers for query: How does Optimality Theory differ from rule-based phonological models, and what are its limitations when applied to gradient linguistic phenomena?\n",
      "Processed query 5/10: How does Optimality Theory differ from rule-based phonological models, and what are its limitations when applied to gradient linguistic phenomena?\n",
      "\n",
      "Found 79342 relevant papers for query: What are the linguistic, cognitive, and social implications of code-switching in bilingual communities? Can it be considered rule-governed behavior?\n",
      "Processed query 6/10: What are the linguistic, cognitive, and social implications of code-switching in bilingual communities? Can it be considered rule-governed behavior?\n",
      "\n",
      "Found 27799 relevant papers for query: How has corpus linguistics challenged traditional intuitions about frequency, grammaticality, and collocation in lexical semantics?\n",
      "Processed query 7/10: How has corpus linguistics challenged traditional intuitions about frequency, grammaticality, and collocation in lexical semantics?\n",
      "\n",
      "Found 39631 relevant papers for query: Compare and contrast the syntactic structures of ergative-absolutive and nominative-accusative languages. How do these alignments affect sentence parsing in real-time?\n",
      "Processed query 8/10: Compare and contrast the syntactic structures of ergative-absolutive and nominative-accusative languages. How do these alignments affect sentence parsing in real-time?\n",
      "\n",
      "Found 26822 relevant papers for query: In what ways can phonological processes such as assimilation and vowel harmony inform our understanding of mental representations of language?\n",
      "Processed query 9/10: In what ways can phonological processes such as assimilation and vowel harmony inform our understanding of mental representations of language?\n",
      "\n",
      "Found 70793 relevant papers for query: How does the theory of Universal Grammar account for cross-linguistic syntactic variation, and what are the main arguments against it?\n",
      "Processed query 10/10: How does the theory of Universal Grammar account for cross-linguistic syntactic variation, and what are the main arguments against it?\n",
      "\n"
     ]
    }
   ],
   "source": [
    "test_queries10 = process_queries(test_queries10)\n",
    "test_queries10.to_csv('test_queries10.csv', index=False)"
   ]
  }
 ],
 "metadata": {
  "kernelspec": {
   "display_name": "graphqa2",
   "language": "python",
   "name": "python3"
  },
  "language_info": {
   "codemirror_mode": {
    "name": "ipython",
    "version": 3
   },
   "file_extension": ".py",
   "mimetype": "text/x-python",
   "name": "python",
   "nbconvert_exporter": "python",
   "pygments_lexer": "ipython3",
   "version": "3.9.21"
  }
 },
 "nbformat": 4,
 "nbformat_minor": 5
}
